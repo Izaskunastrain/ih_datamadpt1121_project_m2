{
 "cells": [
  {
   "cell_type": "code",
   "execution_count": null,
   "id": "966871a9",
   "metadata": {},
   "outputs": [],
   "source": [
    "# Original dataset was denormalized and therefore we used DBeaver and SQL requests"
   ]
  },
  {
   "cell_type": "code",
   "execution_count": null,
   "id": "8b27442b",
   "metadata": {},
   "outputs": [],
   "source": [
    "SELECT\n",
    "dp.index_id as \"Index_ID\",\n",
    "dc.clarity as \"Clarity\",\n",
    "dco.color as \"Color\",\n",
    "dcu.cut as \"Cut\",\n",
    "dt.carat as \"Carat\",\n",
    "dd.x as \"x\",\n",
    "dd.y as \"y\",\n",
    "dd.z as \"z\",\n",
    "dd.\"table\" as \"Table\",\n",
    "dd.\"depth\" as \"Depth\",\n",
    "dt.price as \"Price\",\n",
    "dci.city as \"City\"\n",
    "FROM diamonds_properties dp\n",
    "INNER JOIN diamonds_clarity dc ON dc.clarity_id =dp.clarity_id\n",
    "INNER JOIN diamonds_color dco ON dco.color_id =dp.color_id\n",
    "INNER JOIN diamonds_cut dcu ON dcu.cut_id =dp.cut_id \n",
    "INNER JOIN diamonds_dimensions dd ON dd.index_id = dp.index_id\n",
    "INNER JOIN diamonds_transactional dt ON dt.index_id = dp.index_id \n",
    "INNER JOIN diamonds_city dci ON dci.city_id = dt.city_id \n",
    "\n"
   ]
  },
  {
   "cell_type": "code",
   "execution_count": null,
   "id": "2f1f4438",
   "metadata": {},
   "outputs": [],
   "source": [
    "#The output is a table called \"diamonds\""
   ]
  },
  {
   "cell_type": "markdown",
   "id": "eb2aad80",
   "metadata": {},
   "source": []
  }
 ],
 "metadata": {
  "kernelspec": {
   "display_name": "Python [conda env:diamonds]",
   "language": "python",
   "name": "conda-env-diamonds-py"
  },
  "language_info": {
   "codemirror_mode": {
    "name": "ipython",
    "version": 3
   },
   "file_extension": ".py",
   "mimetype": "text/x-python",
   "name": "python",
   "nbconvert_exporter": "python",
   "pygments_lexer": "ipython3",
   "version": "3.7.11"
  }
 },
 "nbformat": 4,
 "nbformat_minor": 5
}
