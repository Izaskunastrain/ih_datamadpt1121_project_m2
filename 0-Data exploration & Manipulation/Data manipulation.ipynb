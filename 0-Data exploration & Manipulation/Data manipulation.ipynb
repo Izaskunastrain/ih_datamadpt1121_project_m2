{
 "cells": [
  {
   "cell_type": "code",
   "execution_count": 1,
   "id": "fc6db248",
   "metadata": {},
   "outputs": [],
   "source": [
    "import pandas as pd"
   ]
  },
  {
   "cell_type": "code",
   "execution_count": 4,
   "id": "5a89cff6",
   "metadata": {},
   "outputs": [],
   "source": [
    "#I read my exported table from Dbeaver\n",
    "df_csv = pd.read_csv('./../data/diamonds.csv')"
   ]
  },
  {
   "cell_type": "code",
   "execution_count": 5,
   "id": "886d8979",
   "metadata": {},
   "outputs": [],
   "source": [
    "# I prepare a table to visualise top 3 cities and lowest 3 cities\n",
    "df_top_cities= df_csv[['Price', 'City']]"
   ]
  },
  {
   "cell_type": "code",
   "execution_count": 6,
   "id": "c11c9470",
   "metadata": {},
   "outputs": [
    {
     "data": {
      "text/html": [
       "<div>\n",
       "<style scoped>\n",
       "    .dataframe tbody tr th:only-of-type {\n",
       "        vertical-align: middle;\n",
       "    }\n",
       "\n",
       "    .dataframe tbody tr th {\n",
       "        vertical-align: top;\n",
       "    }\n",
       "\n",
       "    .dataframe thead th {\n",
       "        text-align: right;\n",
       "    }\n",
       "</style>\n",
       "<table border=\"1\" class=\"dataframe\">\n",
       "  <thead>\n",
       "    <tr style=\"text-align: right;\">\n",
       "      <th></th>\n",
       "      <th>Price</th>\n",
       "    </tr>\n",
       "    <tr>\n",
       "      <th>City</th>\n",
       "      <th></th>\n",
       "    </tr>\n",
       "  </thead>\n",
       "  <tbody>\n",
       "    <tr>\n",
       "      <th>Tel Aviv</th>\n",
       "      <td>9403135</td>\n",
       "    </tr>\n",
       "    <tr>\n",
       "      <th>London</th>\n",
       "      <td>9735671</td>\n",
       "    </tr>\n",
       "    <tr>\n",
       "      <th>Paris</th>\n",
       "      <td>9882819</td>\n",
       "    </tr>\n",
       "    <tr>\n",
       "      <th>Amsterdam</th>\n",
       "      <td>9894647</td>\n",
       "    </tr>\n",
       "    <tr>\n",
       "      <th>Zurich</th>\n",
       "      <td>10039535</td>\n",
       "    </tr>\n",
       "    <tr>\n",
       "      <th>Luxembourg</th>\n",
       "      <td>10041655</td>\n",
       "    </tr>\n",
       "    <tr>\n",
       "      <th>Madrid</th>\n",
       "      <td>10103241</td>\n",
       "    </tr>\n",
       "    <tr>\n",
       "      <th>Las Vegas</th>\n",
       "      <td>10135050</td>\n",
       "    </tr>\n",
       "    <tr>\n",
       "      <th>New York City</th>\n",
       "      <td>10157646</td>\n",
       "    </tr>\n",
       "    <tr>\n",
       "      <th>Dubai</th>\n",
       "      <td>10210177</td>\n",
       "    </tr>\n",
       "    <tr>\n",
       "      <th>Antwerp</th>\n",
       "      <td>19391713</td>\n",
       "    </tr>\n",
       "    <tr>\n",
       "      <th>Kimberly</th>\n",
       "      <td>19806237</td>\n",
       "    </tr>\n",
       "    <tr>\n",
       "      <th>Surat</th>\n",
       "      <td>20123695</td>\n",
       "    </tr>\n",
       "  </tbody>\n",
       "</table>\n",
       "</div>"
      ],
      "text/plain": [
       "                  Price\n",
       "City                   \n",
       "Tel Aviv        9403135\n",
       "London          9735671\n",
       "Paris           9882819\n",
       "Amsterdam       9894647\n",
       "Zurich         10039535\n",
       "Luxembourg     10041655\n",
       "Madrid         10103241\n",
       "Las Vegas      10135050\n",
       "New York City  10157646\n",
       "Dubai          10210177\n",
       "Antwerp        19391713\n",
       "Kimberly       19806237\n",
       "Surat          20123695"
      ]
     },
     "execution_count": 6,
     "metadata": {},
     "output_type": "execute_result"
    }
   ],
   "source": [
    "df2 = df_top_cities.groupby('City').sum()\n",
    "df2= df2.sort_values(by=['Price'])\n",
    "df2"
   ]
  },
  {
   "cell_type": "code",
   "execution_count": 7,
   "id": "57915b4c",
   "metadata": {},
   "outputs": [],
   "source": [
    "df_low3= df2.head(3)\n",
    "df_top3= df2.tail(3)"
   ]
  },
  {
   "cell_type": "code",
   "execution_count": 9,
   "id": "3557d044",
   "metadata": {},
   "outputs": [],
   "source": [
    "df_low3.to_csv('./../data/low3.csv')\n",
    "df_top3.to_csv('./../data/top3.csv')"
   ]
  },
  {
   "cell_type": "code",
   "execution_count": 11,
   "id": "8f417510",
   "metadata": {},
   "outputs": [],
   "source": [
    "# I prepare another talbe to group clarity by categories\n",
    "df_csv = pd.read_csv('./../data/diamantitos.csv')\n",
    "df_clarity= df_csv[['Price', 'Clarity','City']]"
   ]
  },
  {
   "cell_type": "code",
   "execution_count": 12,
   "id": "110dfc8f",
   "metadata": {},
   "outputs": [
    {
     "name": "stderr",
     "output_type": "stream",
     "text": [
      "/Users/Izaskun/miniconda3/envs/diamonds/lib/python3.7/site-packages/pandas/core/frame.py:5244: SettingWithCopyWarning: \n",
      "A value is trying to be set on a copy of a slice from a DataFrame\n",
      "\n",
      "See the caveats in the documentation: https://pandas.pydata.org/pandas-docs/stable/user_guide/indexing.html#returning-a-view-versus-a-copy\n",
      "  method=method,\n"
     ]
    }
   ],
   "source": [
    "df_clarity.replace('IF', '0-Internaly Flawless', inplace=True)\n",
    "df_clarity.replace('VVS1', '1-Very very slightly included', inplace=True)\n",
    "df_clarity.replace('VVS2', '1-Very very slightly included', inplace=True)\n",
    "df_clarity.replace('VS1', '2-Very slightly included', inplace=True)\n",
    "df_clarity.replace('VS2', '2-Very slightly included', inplace=True)\n",
    "df_clarity.replace('SI1', '3-Slightly included', inplace=True)\n",
    "df_clarity.replace('SI2', '3-Slightly included', inplace=True)\n",
    "df_clarity.replace('I1', '4-Included', inplace=True)\n",
    "df_clarity.replace('I2', '4-Included', inplace=True)"
   ]
  },
  {
   "cell_type": "code",
   "execution_count": 13,
   "id": "a8456b59",
   "metadata": {},
   "outputs": [
    {
     "data": {
      "text/html": [
       "<div>\n",
       "<style scoped>\n",
       "    .dataframe tbody tr th:only-of-type {\n",
       "        vertical-align: middle;\n",
       "    }\n",
       "\n",
       "    .dataframe tbody tr th {\n",
       "        vertical-align: top;\n",
       "    }\n",
       "\n",
       "    .dataframe thead th {\n",
       "        text-align: right;\n",
       "    }\n",
       "</style>\n",
       "<table border=\"1\" class=\"dataframe\">\n",
       "  <thead>\n",
       "    <tr style=\"text-align: right;\">\n",
       "      <th></th>\n",
       "      <th>Price</th>\n",
       "      <th>Clarity</th>\n",
       "      <th>City</th>\n",
       "    </tr>\n",
       "  </thead>\n",
       "  <tbody>\n",
       "    <tr>\n",
       "      <th>0</th>\n",
       "      <td>4268</td>\n",
       "      <td>2-Very slightly included</td>\n",
       "      <td>Dubai</td>\n",
       "    </tr>\n",
       "    <tr>\n",
       "      <th>1</th>\n",
       "      <td>505</td>\n",
       "      <td>2-Very slightly included</td>\n",
       "      <td>Kimberly</td>\n",
       "    </tr>\n",
       "    <tr>\n",
       "      <th>2</th>\n",
       "      <td>2686</td>\n",
       "      <td>2-Very slightly included</td>\n",
       "      <td>Las Vegas</td>\n",
       "    </tr>\n",
       "    <tr>\n",
       "      <th>3</th>\n",
       "      <td>738</td>\n",
       "      <td>3-Slightly included</td>\n",
       "      <td>Kimberly</td>\n",
       "    </tr>\n",
       "    <tr>\n",
       "      <th>4</th>\n",
       "      <td>4882</td>\n",
       "      <td>3-Slightly included</td>\n",
       "      <td>Dubai</td>\n",
       "    </tr>\n",
       "    <tr>\n",
       "      <th>...</th>\n",
       "      <td>...</td>\n",
       "      <td>...</td>\n",
       "      <td>...</td>\n",
       "    </tr>\n",
       "    <tr>\n",
       "      <th>40450</th>\n",
       "      <td>10070</td>\n",
       "      <td>2-Very slightly included</td>\n",
       "      <td>Antwerp</td>\n",
       "    </tr>\n",
       "    <tr>\n",
       "      <th>40451</th>\n",
       "      <td>12615</td>\n",
       "      <td>3-Slightly included</td>\n",
       "      <td>Madrid</td>\n",
       "    </tr>\n",
       "    <tr>\n",
       "      <th>40452</th>\n",
       "      <td>5457</td>\n",
       "      <td>3-Slightly included</td>\n",
       "      <td>Kimberly</td>\n",
       "    </tr>\n",
       "    <tr>\n",
       "      <th>40453</th>\n",
       "      <td>456</td>\n",
       "      <td>2-Very slightly included</td>\n",
       "      <td>Kimberly</td>\n",
       "    </tr>\n",
       "    <tr>\n",
       "      <th>40454</th>\n",
       "      <td>6232</td>\n",
       "      <td>3-Slightly included</td>\n",
       "      <td>London</td>\n",
       "    </tr>\n",
       "  </tbody>\n",
       "</table>\n",
       "<p>40455 rows × 3 columns</p>\n",
       "</div>"
      ],
      "text/plain": [
       "       Price                   Clarity       City\n",
       "0       4268  2-Very slightly included      Dubai\n",
       "1        505  2-Very slightly included   Kimberly\n",
       "2       2686  2-Very slightly included  Las Vegas\n",
       "3        738       3-Slightly included   Kimberly\n",
       "4       4882       3-Slightly included      Dubai\n",
       "...      ...                       ...        ...\n",
       "40450  10070  2-Very slightly included    Antwerp\n",
       "40451  12615       3-Slightly included     Madrid\n",
       "40452   5457       3-Slightly included   Kimberly\n",
       "40453    456  2-Very slightly included   Kimberly\n",
       "40454   6232       3-Slightly included     London\n",
       "\n",
       "[40455 rows x 3 columns]"
      ]
     },
     "execution_count": 13,
     "metadata": {},
     "output_type": "execute_result"
    }
   ],
   "source": [
    "df_clarity"
   ]
  },
  {
   "cell_type": "code",
   "execution_count": 14,
   "id": "78d14e72",
   "metadata": {},
   "outputs": [],
   "source": [
    "df_clarity.to_csv('./../data/clarity.csv')"
   ]
  },
  {
   "cell_type": "code",
   "execution_count": null,
   "id": "861eed10",
   "metadata": {},
   "outputs": [],
   "source": []
  }
 ],
 "metadata": {
  "kernelspec": {
   "display_name": "Python [conda env:diamonds]",
   "language": "python",
   "name": "conda-env-diamonds-py"
  },
  "language_info": {
   "codemirror_mode": {
    "name": "ipython",
    "version": 3
   },
   "file_extension": ".py",
   "mimetype": "text/x-python",
   "name": "python",
   "nbconvert_exporter": "python",
   "pygments_lexer": "ipython3",
   "version": "3.7.11"
  }
 },
 "nbformat": 4,
 "nbformat_minor": 5
}
